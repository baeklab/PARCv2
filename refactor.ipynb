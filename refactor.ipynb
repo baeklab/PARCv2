{
 "cells": [
  {
   "cell_type": "code",
   "execution_count": 1,
   "id": "45bf6b44-0690-4486-a3d1-9fdca7d46893",
   "metadata": {
    "tags": []
   },
   "outputs": [
    {
     "name": "stderr",
     "output_type": "stream",
     "text": [
      "2024-07-12 18:57:45.372216: I tensorflow/core/platform/cpu_feature_guard.cc:183] This TensorFlow binary is optimized to use available CPU instructions in performance-critical operations.\n",
      "To enable the following instructions: SSE3 SSE4.1 SSE4.2 AVX, in other operations, rebuild TensorFlow with the appropriate compiler flags.\n"
     ]
    }
   ],
   "source": [
    "import sys\n",
    "import numpy as np\n",
    "import matplotlib.pyplot as plt\n",
    "import tensorflow as tf\n",
    "import os\n",
    "\n",
    "# sys.path.append(\"/home/nmf8dm/research/PARCv2/code\")\n",
    "from parc.data.data_em import *"
   ]
  },
  {
   "cell_type": "code",
   "execution_count": 2,
   "id": "fce279f9-dd30-4e18-a331-5d67321e344d",
   "metadata": {
    "tags": []
   },
   "outputs": [
    {
     "name": "stdout",
     "output_type": "stream",
     "text": [
      "Processed 12 simulation data into State (240, 64, 128, 6) and Velocity (240, 64, 128, 4)\n"
     ]
    }
   ],
   "source": [
    "data = DataEnergeticMaterials()\n",
    "x, u = data.clip_raw_data(dataset_range = (100,130), dir_dataset=\"/scratch/pdy2bw/single_void_new_clip_testing/\", dim_reduce=8)\n",
    "x_norm, u_norm = data.data_normalization(x,3), data.data_normalization(u,2)"
   ]
  },
  {
   "cell_type": "code",
   "execution_count": 12,
   "id": "2830b3e6-d0c7-4131-a3c2-4e73e35a4c71",
   "metadata": {
    "tags": []
   },
   "outputs": [
    {
     "name": "stdout",
     "output_type": "stream",
     "text": [
      "(240, 64, 128, 3) (240, 64, 128, 2)\n",
      "(240, 64, 128, 3) (240, 64, 128, 2)\n"
     ]
    }
   ],
   "source": [
    "# x_in = tf.data.Dataset.from_tensor_slices( (x_norm[0][:,:,:,:3], u_norm[0][:,:,:,:2]) )\n",
    "# y_in = tf.data.Dataset.from_tensor_slices( (x_norm[0][:,:,:,-3:], u_norm[0][:,:,:,-2:]) )\n",
    "\n",
    "x_in = x_norm[0][..., :3]\n",
    "u_in = u_norm[0][..., :2]\n",
    "\n",
    "x_out = x_norm[0][..., 3:]\n",
    "u_out = u_norm[0][..., 2:]\n",
    "\n",
    "print( x_in.shape, u_in.shape ) \n",
    "print( x_out.shape, u_out.shape ) "
   ]
  },
  {
   "cell_type": "code",
   "execution_count": 13,
   "id": "64aa92ee-212e-456f-9e14-61041b5df19f",
   "metadata": {
    "tags": []
   },
   "outputs": [],
   "source": [
    "class spade_unit(tf.keras.layers.Layer):\n",
    "    def __init__(self, n_feats=128):\n",
    "        super().__init__()\n",
    "        self.conv = tf.keras.layers.Conv2D(n_feats, 3, padding='same', activation='relu')\n",
    "        self.conv_gamma = tf.keras.layers.Conv2D(n_feats, 3, padding='same')\n",
    "        self.conv_beta = tf.keras.layers.Conv2D(n_feats, 3, padding='same')\n",
    "        self.epsilon = 1e-5\n",
    "\n",
    "    def call(self, inputs):\n",
    "        x, mask = inputs[0], inputs[1]\n",
    "        \n",
    "        # mask = tf.image.resize(mask, x.shape[1:3], method='nearest')\n",
    "        mask = self.conv(mask)\n",
    "        \n",
    "        gamma = self.conv_gamma(mask)\n",
    "        beta = self.conv_beta(mask)\n",
    "        \n",
    "        mean, var = tf.nn.moments(x, axes=(0,1,2), keepdims=True)\n",
    "        std = tf.sqrt( tf.math.add(var, self.epsilon) )\n",
    "        \n",
    "        normalized = tf.math.divide( tf.math.subtract(x, mean), std)\n",
    "        normalized = tf.math.add( tf.math.multiply(gamma, normalized ), beta )\n",
    "        return normalized   \n",
    "    \n",
    "class resnet_unit(tf.keras.layers.Layer):\n",
    "    def __init__(self, n_feats=128):\n",
    "        super().__init__()\n",
    "        self.conv1 = tf.keras.layers.Conv2D(n_feats, 1, padding='same')\n",
    "        self.conv2 = tf.keras.layers.Conv2D(n_feats, 1, padding='same')\n",
    "        \n",
    "    def call(self, inputs):\n",
    "        x = tf.keras.layers.ReLU()(self.conv1(inputs))\n",
    "        x = self.conv2(x)\n",
    "        out = tf.keras.layers.ReLU()(tf.math.add(inputs, x))\n",
    "        return out\n",
    "            \n",
    "class integrator_unit(tf.keras.layers.Layer):\n",
    "    def __init__(self, n_feats=128, n_out=1):\n",
    "        super().__init__()\n",
    "        \n",
    "        self.resnet1 = resnet_block(n_feats=n_feats, n_blocks=0)\n",
    "        self.resnet2 = resnet_block(n_feats=n_feats, n_blocks=2)\n",
    "        self.style = spade_block(n_feats=n_feats)\n",
    "        self.conv = tf.keras.layers.Conv2D(n_out, 1, padding='same')\n",
    "    \n",
    "    def call(self, inputs):\n",
    "        x, mask = inputs[0], inputs[1]\n",
    "        \n",
    "        resnet_out = self.resnet1(x)\n",
    "        style_vector = self.style(resnet_out)\n",
    "        resnet_out = self.resnet2(style_vector)\n",
    "        out = self.conv(resnet_out)\n",
    "        return out"
   ]
  },
  {
   "cell_type": "code",
   "execution_count": 14,
   "id": "944be7ce-060e-45bd-aef2-c327f86e4eb4",
   "metadata": {
    "tags": []
   },
   "outputs": [],
   "source": [
    "# phone calls it a \"style vector\", ref: spade_generator_unit\n",
    "class spade_block(tf.keras.layers.Layer): \n",
    "    def __init__(self, n_feats=128):\n",
    "        super().__init__()\n",
    "        self.spade1 = spade_unit(n_feats=n_feats)\n",
    "        self.spade2 = spade_unit(n_feats=n_feats)\n",
    "        self.spade3 = spade_unit(n_feats=n_feats)\n",
    "        \n",
    "        self.conv1 = tf.keras.layers.Conv2D(n_feats, 3, padding='same')\n",
    "        self.conv2 = tf.keras.layers.Conv2D(n_feats, 3, padding='same')\n",
    "        self.conv3 = tf.keras.layers.Conv2D(n_feats, 3, padding='same')\n",
    "        \n",
    "    def call(self, inputs):\n",
    "        x, mask = inputs[0], inputs[1]\n",
    "        x = tf.keras.layers.GaussianNoise(0.05)(x)\n",
    "        \n",
    "        s1 = self.conv1( tf.keras.layers.LeakyReLU(0.2)( self.spade1( [x, mask] ) ) )\n",
    "        s2 = self.conv2( tf.keras.layers.LeakyReLU(0.2)( self.spade2( [s1, mask] ) ) )    \n",
    "        s_skip = self.conv3( tf.keras.layers.LeakyReLU(0.2)( self.spade3( [x, mask] ) ) )\n",
    "        \n",
    "        out = tf.keras.layers.add( [s2, s_skip] )\n",
    "        return out    \n",
    "\n",
    " \n",
    "    \n",
    "class resnet_block(tf.keras.layers.Layer):\n",
    "    def __init__(self, n_feats=128, n_blocks=2):\n",
    "        super().__init__()\n",
    "        self.conv1 = tf.keras.layers.Conv2D(n_feats, 1, padding='same', activation='relu')\n",
    "        self.conv2 = tf.keras.layers.Conv2D(n_feats, 1, padding='same', activation='relu')\n",
    "        \n",
    "        ## resnet unit, which could repeat\n",
    "        self.n_blocks = n_blocks\n",
    "        self.resnet_units = [None] * n_blocks\n",
    "        for i in range(n_blocks):\n",
    "            self.resnet_units[i] = resnet_unit(n_feats)\n",
    "        \n",
    "    # tag: didn't indluce pooling\n",
    "    def call(self, inputs):\n",
    "        x = self.conv1(inputs)\n",
    "        x = self.conv2(x)\n",
    "        \n",
    "        for i in range(self.n_blocks):\n",
    "            x = self.resnet_units[i](x)\n",
    "        return x        "
   ]
  },
  {
   "cell_type": "code",
   "execution_count": 15,
   "id": "37d4fb78-c5b1-4706-9078-a265d138ea75",
   "metadata": {
    "tags": []
   },
   "outputs": [],
   "source": [
    "class style_map(tf.keras.layers.Layer):\n",
    "    def __init__(self, n_feats=128, n_out=1): \n",
    "        super().__init__()\n",
    "        self.style = spade_block(n_feats)\n",
    "        self.resnet = resnet_block(n_feats)\n",
    "        self.conv = tf.keras.layers.Conv2D(n_out, n_out, padding='same') # bug: output dimension     \n",
    "        \n",
    "    def call(self, inputs):\n",
    "        x, mask = inputs[0], inputs[1]\n",
    "        \n",
    "        style_vector = self.style( [x, mask] )\n",
    "        resnet_out = self.resnet(style_vector)\n",
    "        conv_out = self.conv(resnet_out)\n",
    "        return conv_out    \n",
    "    \n",
    "class advection(tf.keras.layers.Layer):\n",
    "    def __init__(self): \n",
    "        super().__init__()\n",
    "        \n",
    "    def call(self, inputs):\n",
    "        x, u = inputs[0], inputs[1]\n",
    "        dy, dx = tf.image.image_gradients(x)\n",
    "        spatial_deriv = tf.concat( [dy, dx], axis=-1 )\n",
    "        advect = tf.reduce_sum( tf.multiply( spatial_deriv, u ), axis=-1, keepdims=True )\n",
    "        return advect\n",
    "\n",
    "class diffusion(tf.keras.layers.Layer):\n",
    "    def __init__(self): \n",
    "        super().__init__()\n",
    "        \n",
    "    def call(self, inputs):\n",
    "        dy, dx = tf.image.image_gradients(inputs)\n",
    "        dyy, _ = tf.image.image_gradients(dy)\n",
    "        _, dxx = tf.image.image_gradients(dx)\n",
    "        laplacian = tf.math.add( dyy, dxx )\n",
    "        return laplacian"
   ]
  },
  {
   "cell_type": "code",
   "execution_count": 16,
   "id": "610cb55c-8887-4a2e-9f05-bea798fc0d44",
   "metadata": {
    "tags": []
   },
   "outputs": [],
   "source": [
    "class differentiator(tf.keras.layers.Layer):\n",
    "    def __init__(self, n_feats=128): \n",
    "        super().__init__()\n",
    "        self.unet = unet()\n",
    "        \n",
    "        self.T_adv = advection()\n",
    "        self.P_adv = advection()\n",
    "        self.M_adv = advection()\n",
    "        self.VX_adv = advection()\n",
    "        self.VY_adv = advection()\n",
    "        self.diffusion = diffusion()\n",
    "\n",
    "        self.T_map = style_map(n_feats)\n",
    "        self.P_map = style_map(n_feats)\n",
    "        self.M_map = style_map(n_feats) \n",
    "        self.V_map = style_map(n_feats, n_out=2)\n",
    "        \n",
    "    def call(self, inputs):\n",
    "        T_in = inputs[..., 0:1]\n",
    "        P_in = inputs[..., 1:2]\n",
    "        M_in = inputs[..., 2:3]\n",
    "        Vx_in = inputs[..., 3:4]\n",
    "        Vy_in = inputs[..., 4:5]\n",
    "        U_in = tf.concat( [Vx_in, Vy_in], axis=-1 )\n",
    "        \n",
    "        feature_map = self.unet(inputs)\n",
    "        \n",
    "        T_adv = self.T_adv( [T_in, U_in] )\n",
    "        T_diff = self.diffusion( T_in )\n",
    "        T = tf.concat( [T_adv, T_diff], axis=-1 )\n",
    "        T_dot = self.T_map( [feature_map, T] )\n",
    "        \n",
    "        P_adv = self.P_adv( [P_in, U_in] )\n",
    "        P_dot = self.P_map( [feature_map, P_adv] )\n",
    "        \n",
    "        M_adv = self.M_adv( [M_in, U_in] )\n",
    "        M_dot = self.M_map( [feature_map, M_adv] )\n",
    "        \n",
    "        VX_adv = self.VX_adv( [Vx_in, U_in] )\n",
    "        VY_adv = self.VY_adv( [Vy_in, U_in] )\n",
    "        V_adv = tf.concat( [VX_adv, VY_adv], axis=-1 )\n",
    "        V_dot = self.V_map( [feature_map, V_adv] )\n",
    "        \n",
    "        out = tf.concat( [T_dot, P_dot, M_dot, V_dot], axis=-1 )\n",
    "        return out\n",
    "    \n",
    "class integrator(tf.keras.layers.Layer):\n",
    "    def __init__(self, n_feats=128):\n",
    "        super().__init__()\n",
    "        self.T_int = integrator_unit(n_feats=n_feats)\n",
    "        self.P_int = integrator_unit(n_feats=n_feats)\n",
    "        self.M_int = integrator_unit(n_feats=n_feats)\n",
    "        self.V_int = integrator_unit(n_feats=n_feats, n_out=2)\n",
    "        \n",
    "    def call(self, inputs):\n",
    "        x_dot, u_dot, x, u = inputs[0], inputs[1], inputs[2], inputs[3]\n",
    "        \n",
    "        T_next = self.T_int( x[..., 0:1], x_dot[..., 0:1] )\n",
    "        P_next = self.P_int( x[..., 1:2], x_dot[..., 1:2] )\n",
    "        M_next = self.M_int( x[..., 2:3], x_dot[..., 2:3] )\n",
    "        V_next = self.V_int( u[..., 4:6], u_dot[..., 4:6] ) # tag: double check\n",
    "        X_next = keras.concat( [T_next, P_next, M_next], axis=-1 )        \n",
    "        \n",
    "        return tf.convert_to_tensor(X_next), tf.convert_to_tensor(V_next)"
   ]
  },
  {
   "cell_type": "code",
   "execution_count": 17,
   "id": "de361891-3116-45b1-b3c6-9d82de623770",
   "metadata": {
    "tags": []
   },
   "outputs": [],
   "source": [
    "# bug: no padding in initial model\n",
    "class unet(tf.keras.layers.Layer):\n",
    "    def __init__(self, n_feats=64, n_feature_map=128): \n",
    "        super().__init__()\n",
    "        self.d1c1 = tf.keras.layers.Conv2D(n_feats, 3, activation=tf.keras.layers.LeakyReLU(0.2), padding='same' )\n",
    "        self.d1c2 = tf.keras.layers.Conv2D(n_feats, 1, activation=tf.keras.layers.LeakyReLU(0.2), padding='same')\n",
    "        \n",
    "        self.d2c0 = tf.keras.layers.MaxPooling2D(2,2)\n",
    "        self.d2c1 = tf.keras.layers.Conv2D(n_feats * 2, 3, activation=tf.keras.layers.LeakyReLU(0.2), padding='same' )\n",
    "        self.d2c2 = tf.keras.layers.Conv2D(n_feats * 2, 1, activation=tf.keras.layers.LeakyReLU(0.2), padding='same' )\n",
    "        \n",
    "        self.d3c0 = tf.keras.layers.MaxPooling2D(2,2)\n",
    "        self.d3c1 = tf.keras.layers.Conv2D(n_feats * 4, 3, activation=tf.keras.layers.LeakyReLU(0.2), padding='same' )\n",
    "        self.d3c2 = tf.keras.layers.Conv2D(n_feats * 4, 1, activation=tf.keras.layers.LeakyReLU(0.2), padding='same' )\n",
    "\n",
    "        self.d4c0 = tf.keras.layers.MaxPooling2D(2,2)\n",
    "        self.d4c1 = tf.keras.layers.Conv2D(n_feats * 8, 3, activation=tf.keras.layers.LeakyReLU(0.2), padding='same' )\n",
    "        self.d4c2 = tf.keras.layers.Conv2D(n_feats * 8, 1, activation=tf.keras.layers.LeakyReLU(0.2), padding='same' )\n",
    "        \n",
    "        self.bottleneck_c0 = tf.keras.layers.MaxPooling2D(2,2)\n",
    "        self.bottleneck_c1 = tf.keras.layers.Conv2D(n_feats * 16, 3, activation=tf.keras.layers.LeakyReLU(0.2), padding='same' )\n",
    "        self.bottleneck_c2 = tf.keras.layers.Conv2D(n_feats * 16, 1, activation=tf.keras.layers.LeakyReLU(0.2), padding='same' )\n",
    "        \n",
    "        self.u4c0 = tf.keras.layers.UpSampling2D((2,2), interpolation='bilinear')\n",
    "        self.u4c1 = tf.keras.layers.Conv2D(n_feats * 8, 3, activation=tf.keras.layers.LeakyReLU(0.2), padding='same' )\n",
    "        self.u4c2 = tf.keras.layers.Conv2D(n_feats * 8, 1, activation=tf.keras.layers.LeakyReLU(0.2), padding='same' )\n",
    "        \n",
    "        self.u3c0 = tf.keras.layers.UpSampling2D((2,2), interpolation='bilinear')\n",
    "        self.u3c1 = tf.keras.layers.Conv2D(n_feats * 4, 3, activation=tf.keras.layers.LeakyReLU(0.2), padding='same' )\n",
    "        self.u3c2 = tf.keras.layers.Conv2D(n_feats * 4, 1, activation=tf.keras.layers.LeakyReLU(0.2), padding='same' )\n",
    "        \n",
    "        self.u2c0 = tf.keras.layers.UpSampling2D((2,2), interpolation='bilinear')\n",
    "        self.u2c1 = tf.keras.layers.Conv2D(n_feats * 2, 3, activation=tf.keras.layers.LeakyReLU(0.2), padding='same' )\n",
    "        self.u2c2 = tf.keras.layers.Conv2D(n_feats * 2, 1, activation=tf.keras.layers.LeakyReLU(0.2), padding='same' )\n",
    "        \n",
    "        self.u1c0 = tf.keras.layers.UpSampling2D((2,2), interpolation='bilinear')\n",
    "        self.u1c1 = tf.keras.layers.Conv2D(n_feature_map, 3, activation=tf.keras.layers.LeakyReLU(0.2), padding='same' )\n",
    "        self.u1c2 = tf.keras.layers.Conv2D(n_feature_map, 1, activation=tf.keras.layers.LeakyReLU(0.2), padding='same' )\n",
    "        \n",
    "        self.r0 = tf.keras.layers.Conv2D(n_feature_map, 3, activation=tf.keras.layers.LeakyReLU(0.2), padding='same' )\n",
    "        self.r1 = tf.keras.layers.Conv2D(n_feature_map, 1, activation=tf.keras.layers.LeakyReLU(0.2), padding='same' )\n",
    "        \n",
    "    def call(self, inputs):\n",
    "        d1c1 = self.d1c1(inputs)\n",
    "        d1c2 = self.d1c2(d1c1)\n",
    "        \n",
    "        d2c0 = self.d2c0(d1c2)\n",
    "        d2c1 = self.d2c1(d2c0)\n",
    "        d2c2 = self.d2c2(d2c1)\n",
    "        \n",
    "        d3c0 = self.d3c0(d2c2)\n",
    "        d3c1 = self.d3c1(d3c0)\n",
    "        d3c2 = self.d3c2(d3c1)\n",
    "\n",
    "        d4c0 = self.d4c0(d3c2)\n",
    "        d4c1 = self.d4c1(d4c0)\n",
    "        d4c2 = self.d4c2(d4c1)\n",
    "        \n",
    "        bottleneck_c0 = self.bottleneck_c0(d4c2)\n",
    "        bottleneck_c1 = self.bottleneck_c1(bottleneck_c0)\n",
    "        bottleneck_c2 = self.bottleneck_c2(bottleneck_c1)\n",
    "        \n",
    "        u4c0 = self.u4c0(bottleneck_c2)\n",
    "        u4c1 = self.u4c1(u4c0)\n",
    "        u4c2 = self.u4c2(u4c1)\n",
    "        \n",
    "        u3c0 = self.u3c0(u4c2)\n",
    "        u3_concat = tf.concat([u3c0, d3c2], axis=-1)\n",
    "        u3c1 = self.u3c1(u3_concat)\n",
    "        u3c2 = self.u3c2(u3c1)\n",
    "        \n",
    "        u2c0 = self.u2c0(u3c2)\n",
    "        u2c1 = self.u2c1(u2c0)\n",
    "        u2c2 = self.u2c2(u2c1)\n",
    "        \n",
    "        u1c0 = self.u1c0(u2c2)\n",
    "        u1_concat = tf.concat([u1c0, d1c2], axis=-1)\n",
    "        u1c1 = self.u1c1(u1_concat)\n",
    "        u1c2 = self.u1c2(u1c1)\n",
    "        \n",
    "        r0 = self.r0(u1c2)\n",
    "        feature_map = self.r1(r0)\n",
    "        \n",
    "        return feature_map"
   ]
  },
  {
   "cell_type": "code",
   "execution_count": 18,
   "id": "4c62ab0d-1ad8-46dc-9f7c-3d9d602d7173",
   "metadata": {
    "tags": []
   },
   "outputs": [],
   "source": [
    "class parcV2(tf.keras.Model):\n",
    "    def __init__(self, numerical_int=True, n_ts=36, n_step=1/40):\n",
    "        super().__init__()\n",
    "        self.differentiator = differentiator()\n",
    "        self.integrator = integrator()\n",
    "        self.numerical_int = numerical_int\n",
    "        self.n_ts = n_ts\n",
    "        self.n_step = n_step\n",
    "        \n",
    "    def call(self, inputs):        \n",
    "        x_in, u_in = tf.cast( inputs[0], tf.float32 ), tf.cast( inputs[1], tf.float32 )\n",
    "        data_in = tf.concat( [x_in, u_in], axis=-1 )\n",
    "        \n",
    "        x_preds = [None] * self.n_ts\n",
    "        u_preds = [None] * self.n_ts\n",
    "        for t in range(self.n_ts):\n",
    "            data_in = tf.clip_by_value(data_in, 0., 1.)\n",
    "            \n",
    "            \"\"\" RK4 integration \"\"\" \n",
    "            k1 = self.differentiator(data_in)\n",
    "            \n",
    "            k2 = tf.math.add( data_in, tf.math.multiply( tf.math.multiply( self.n_step, 0.5 ), k1 ) )\n",
    "            k2 = self.differentiator(k2)\n",
    "            \n",
    "            k3 = tf.math.add( data_in, tf.math.multiply( tf.math.multiply( self.n_step, 0.5 ), k2 ) )\n",
    "            k3 = self.differentiator(k3)\n",
    "            \n",
    "            k4 = tf.math.add( data_in, tf.math.multiply( self.n_step, k3 ) )\n",
    "            k4 = self.differentiator(k4)\n",
    "            \n",
    "            k1 = tf.math.divide( k1, 6 )\n",
    "            k2 = tf.math.divide( k2, 3 )\n",
    "            k3 = tf.math.divide( k3, 3 )\n",
    "            k4 = tf.math.divide( k4, 6 )\n",
    "            \n",
    "            rk4_update = tf.math.add_n( [k1, k2, k3, k4] )\n",
    "            data_in = tf.math.add( data_in, tf.math.multiply( self.n_step, rk4_update ) )\n",
    "\n",
    "            x_preds[t] = data_in[..., :3]\n",
    "            u_preds[t] = data_in[..., 3:]\n",
    "        \n",
    "        return tf.concat( x_preds, axis=-1 ), tf.concat( u_preds, axis=-1 )\n",
    "            \n",
    "            \n",
    "    def train_step(self, data):\n",
    "        data_in, y_true = data\n",
    "        X_true, U_true = y_true\n",
    "        \n",
    "        X_true = tf.cast( X_true, tf.float32 )\n",
    "        U_true = tf.cast( U_true, tf.float32 ) \n",
    "        \n",
    "        with tf.GradientTape() as tape: \n",
    "            X_pred, U_pred = self(data_in)\n",
    "            loss = tf.math.reduce_mean( tf.math.abs( tf.math.subtract( X_true, X_pred  ) ) ) + \\\n",
    "                tf.math.reduce_mean( tf.math.abs( tf.math.subtract( U_true, U_pred ) ) )\n",
    "        \n",
    "        trainable_weights = self.trainable_variables\n",
    "        grads = tape.gradient( loss, trainable_weights )\n",
    "        self.optimizer.apply_gradients( zip(grads, trainable_weights) )\n",
    "        \n",
    "        return {'loss' : loss}"
   ]
  },
  {
   "cell_type": "code",
   "execution_count": 19,
   "id": "0032b0cc-6085-45fb-af1c-a83d3fcf96c0",
   "metadata": {
    "tags": []
   },
   "outputs": [
    {
     "name": "stdout",
     "output_type": "stream",
     "text": [
      "(240, 64, 128, 3) (240, 64, 128, 2)\n",
      "(240, 64, 128, 3) (240, 64, 128, 2)\n"
     ]
    }
   ],
   "source": [
    "x_in = x_norm[0][..., :3]\n",
    "u_in = u_norm[0][..., :2]\n",
    "\n",
    "x_out = x_norm[0][..., 3:]\n",
    "u_out = u_norm[0][..., 2:]\n",
    "\n",
    "print( x_in.shape, u_in.shape ) \n",
    "print( x_out.shape, u_out.shape ) "
   ]
  },
  {
   "cell_type": "code",
   "execution_count": 20,
   "id": "7182256e-89f2-4350-b815-851c47eae932",
   "metadata": {
    "tags": []
   },
   "outputs": [
    {
     "name": "stderr",
     "output_type": "stream",
     "text": [
      "2024-07-12 18:38:19.026429: I tensorflow/core/common_runtime/gpu/gpu_device.cc:1636] Created device /job:localhost/replica:0/task:0/device:GPU:0 with 78699 MB memory:  -> device: 0, name: NVIDIA A100-SXM4-80GB, pci bus id: 0000:90:00.0, compute capability: 8.0\n"
     ]
    }
   ],
   "source": [
    "dataset_input = tf.data.Dataset.from_tensor_slices( (x_in[...,:3], u_in[...,:2]) )\n",
    "dataset_label = tf.data.Dataset.from_tensor_slices( (x_out[...,-3:], u_out[...,-2:]) )\n",
    "dataset = tf.data.Dataset.zip((dataset_input, dataset_label))\n",
    "dataset = dataset.shuffle(buffer_size = 2192) \n",
    "dataset = dataset.batch(2)"
   ]
  },
  {
   "cell_type": "code",
   "execution_count": 21,
   "id": "1b2b9b0d-a5a8-4083-9216-8b6a77d70997",
   "metadata": {
    "tags": []
   },
   "outputs": [
    {
     "data": {
      "text/plain": [
       "(240, 64, 128, 3)"
      ]
     },
     "execution_count": 21,
     "metadata": {},
     "output_type": "execute_result"
    }
   ],
   "source": [
    "x_in.shape"
   ]
  },
  {
   "cell_type": "code",
   "execution_count": 22,
   "id": "383e83e4-88db-4e81-8f97-f43b57271667",
   "metadata": {
    "tags": []
   },
   "outputs": [
    {
     "name": "stdout",
     "output_type": "stream",
     "text": [
      "Epoch 1/5\n"
     ]
    },
    {
     "name": "stderr",
     "output_type": "stream",
     "text": [
      "2024-07-12 18:38:58.605298: I tensorflow/compiler/xla/stream_executor/cuda/cuda_dnn.cc:432] Loaded cuDNN version 8904\n",
      "2024-07-12 18:39:02.908668: I tensorflow/compiler/xla/service/service.cc:168] XLA service 0x7f7701e16b00 initialized for platform CUDA (this does not guarantee that XLA will be used). Devices:\n",
      "2024-07-12 18:39:02.908705: I tensorflow/compiler/xla/service/service.cc:176]   StreamExecutor device (0): NVIDIA A100-SXM4-80GB, Compute Capability 8.0\n",
      "2024-07-12 18:39:03.124438: I tensorflow/compiler/mlir/tensorflow/utils/dump_mlir_util.cc:255] disabling MLIR crash reproducer, set env var `MLIR_CRASH_REPRODUCER_DIRECTORY` to enable.\n",
      "2024-07-12 18:39:04.216153: I ./tensorflow/compiler/jit/device_compiler.h:186] Compiled cluster using XLA!  This line is logged at most once for the lifetime of the process.\n"
     ]
    },
    {
     "name": "stdout",
     "output_type": "stream",
     "text": [
      "120/120 [==============================] - 61s 131ms/step - loss: 0.0182\n",
      "Epoch 2/5\n",
      "120/120 [==============================] - 16s 131ms/step - loss: 0.0181\n",
      "Epoch 3/5\n",
      "120/120 [==============================] - 16s 131ms/step - loss: 0.0178\n",
      "Epoch 4/5\n",
      "120/120 [==============================] - 16s 131ms/step - loss: 0.0175\n",
      "Epoch 5/5\n",
      "120/120 [==============================] - 16s 131ms/step - loss: 0.0173\n"
     ]
    }
   ],
   "source": [
    "tf.keras.backend.clear_session()\n",
    "parc = parcV2(n_ts=1)\n",
    "parc.compile( optimizer=tf.keras.optimizers.Adam(learning_rate=1e-5, beta_1=0.9, beta_2=0.999) )\n",
    "history = parc.fit(dataset, epochs=5, shuffle=True )"
   ]
  },
  {
   "cell_type": "code",
   "execution_count": 23,
   "id": "949df00f-f534-4c90-a1ad-b0718458ecc8",
   "metadata": {
    "tags": []
   },
   "outputs": [
    {
     "name": "stderr",
     "output_type": "stream",
     "text": [
      "2024-07-12 18:41:07.347861: I tensorflow/compiler/xla/stream_executor/cuda/cuda_blas.cc:625] TensorFloat-32 will be used for the matrix multiplication. This will only be logged once.\n"
     ]
    },
    {
     "name": "stdout",
     "output_type": "stream",
     "text": [
      "8/8 [==============================] - 8s 442ms/step\n"
     ]
    }
   ],
   "source": [
    "preds = parc.predict( (x_in[..., :3], u_in[..., :2]) )"
   ]
  },
  {
   "cell_type": "code",
   "execution_count": 24,
   "id": "45353100-9b77-4689-a359-982d62451604",
   "metadata": {
    "tags": []
   },
   "outputs": [
    {
     "data": {
      "text/plain": [
       "((240, 64, 128, 3), (240, 64, 128, 2))"
      ]
     },
     "execution_count": 24,
     "metadata": {},
     "output_type": "execute_result"
    }
   ],
   "source": [
    "preds[0].shape, preds[1].shape"
   ]
  },
  {
   "cell_type": "code",
   "execution_count": 25,
   "id": "4171b68e-fd96-4317-b533-3ad8113cc322",
   "metadata": {
    "tags": []
   },
   "outputs": [
    {
     "data": {
      "image/png": "[encoded data removed]",
      "text/plain": [
       "<Figure size 1000x500 with 2 Axes>"
      ]
     },
     "metadata": {},
     "output_type": "display_data"
    }
   ],
   "source": [
    "idx = 10\n",
    "plt.figure(figsize=(10,5))\n",
    "plt.subplot( 121 ) \n",
    "plt.imshow( x_out[idx, ..., 0] )\n",
    "plt.subplot( 122 ) \n",
    "plt.imshow( preds[0][idx, ..., 0] )\n",
    "plt.tight_layout()"
   ]
  },
  {
   "cell_type": "code",
   "execution_count": null,
   "id": "566e32f0-d04d-42fc-b2a8-7f1c8cbac3ae",
   "metadata": {},
   "outputs": [],
   "source": []
  }
 ],
 "metadata": {
  "kernelspec": {
   "display_name": "Tensorflow 2.13.0",
   "language": "python",
   "name": "tensorflow-2.13.0"
  },
  "language_info": {
   "codemirror_mode": {
    "name": "ipython",
    "version": 3
   },
   "file_extension": ".py",
   "mimetype": "text/x-python",
   "name": "python",
   "nbconvert_exporter": "python",
   "pygments_lexer": "ipython3",
   "version": "3.10.12"
  }
 },
 "nbformat": 4,
 "nbformat_minor": 5
}
